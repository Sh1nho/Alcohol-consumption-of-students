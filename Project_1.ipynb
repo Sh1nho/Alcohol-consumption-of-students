{
 "cells": [
  {
   "cell_type": "markdown",
   "metadata": {},
   "source": [
    "# Project: Alcohol consumption of students"
   ]
  },
  {
   "cell_type": "code",
   "execution_count": 1,
   "metadata": {},
   "outputs": [],
   "source": [
    "import pandas as pd\n",
    "import matplotlib.pyplot as plt\n",
    "import seaborn as sns\n",
    "from numpy import sqrt, arange\n",
    "from scipy import stats\n",
    "%matplotlib inline\n"
   ]
  },
  {
   "cell_type": "markdown",
   "metadata": {},
   "source": [
    "In this project we use a dataset containing information about Portuguese students from two public schools. This is a real world dataset that was collected in order to study alcohol consumption in young people and its effects on students' academic performance. The dataset was built from two sources: school reports and questionnaires.\n",
    "\n",
    "**Attributes:**\n",
    "\n",
    "* 1 school - student's school (binary: 'GP' - Gabriel Pereira or 'MS' - Mousinho da Silveira) \n",
    "* 2 sex - student's sex (binary: 'F' - female or 'M' - male) \n",
    "* 3 age - student's age (numeric: from 15 to 22) \n",
    "- 4 address - student's home address type (binary: 'U' - urban or 'R' - rural) \n",
    "- 5 famsize - family size (binary: 'LE3' - less or equal to 3 or 'GT3' - greater than 3) \n",
    "- 6 Pstatus - parent's cohabitation status (binary: 'T' - living together or 'A' - apart) \n",
    "- 7 Medu - mother's education (numeric: 0 - none, 1 - primary education (4th grade), 2 - 5th to 9th grade, 3 -secondary education or 4 - higher education) \n",
    "- 8 Fedu - father's education (numeric: 0 - none, 1 - primary education (4th grade), 2 - 5th to 9th grade, 3 -secondary education or 4 - higher education) \n",
    "- 9 Mjob - mother's job (nominal: 'teacher', 'health' care related, civil 'services' (e.g. administrative or police), 'at_home' or 'other') \n",
    "- 10 Fjob - father's job (nominal: 'teacher', 'health' care related, civil 'services' (e.g. administrative or police), 'at_home' or 'other') \n",
    "- 11 reason - reason to choose this school (nominal: close to 'home', school 'reputation', 'course' preference or 'other') \n",
    "- 12 guardian - student's guardian (nominal: 'mother', 'father' or 'other') \n",
    "- 13 traveltime - home to school travel time (numeric: 1 <15 min., 2 - 15 to 30 min., 3 - 30 min. to 1 hour, or 4 - >1 hour) \n",
    "- 14 studytime - weekly study time (numeric: 1 - <2 hours, 2 - 2 to 5 hours, 3 - 5 to 10 hours, or 4 - >10 hours) \n",
    "- 15 failures - number of past class failures (numeric: n if 1<=n<3, else 4) \n",
    "- 16 schoolsup - extra educational support (binary: yes or no) \n",
    "- 17 famsup - family educational support (binary: yes or no) \n",
    "- 18 paid - extra paid classes within the course subject (Math or Portuguese) (binary: yes or no) \n",
    "- 19 activities - extra-curricular activities (binary: yes or no) \n",
    "- 20 nursery - attended nursery school (binary: yes or no) \n",
    "- 21 higher - wants to take higher education (binary: yes or no) \n",
    "- 22 internet - Internet access at home (binary: yes or no) \n",
    "- 23 romantic - with a romantic relationship (binary: yes or no) \n",
    "- 24 famrel - quality of family relationships (numeric: from 1 - very bad to 5 - excellent) \n",
    "- 25 freetime - free time after school (numeric: from 1 - very low to 5 - very high) \n",
    "- 26 goout - going out with friends (numeric: from 1 - very low to 5 - very high) \n",
    "- 27 Dalc - workday alcohol consumption (numeric: from 1 - very low to 5 - very high) \n",
    "- 28 Walc - weekend alcohol consumption (numeric: from 1 - very low to 5 - very high) \n",
    "- 29 health - current health status (numeric: from 1 - very bad to 5 - very good) \n",
    "- 30 absences - number of school absences (numeric: from 0 to 93) \n",
    "\n",
    "**these grades are related with the course subject:**\n",
    "\n",
    "- 31 G1 - first period grade (numeric: from 0 to 20) \n",
    "- 31 G2 - second period grade (numeric: from 0 to 20) \n",
    "- 32 G3 - final grade (numeric: from 0 to 20, output target)"
   ]
  },
  {
   "cell_type": "code",
   "execution_count": 2,
   "metadata": {},
   "outputs": [],
   "source": [
    "student_data = pd.read_csv(\"/Users/shin/Desktop/데이터 사이언스 기초/팀플/student.csv\", sep=\";\")"
   ]
  },
  {
   "cell_type": "markdown",
   "metadata": {},
   "source": [
    "# Question 1 (2pts)\n",
    "\n",
    "**Please make new columns with the following variable name**\n",
    "\n",
    "1. Alcohol consumption level (we will create it and call it `acl`)\n",
    " - Make a new columns of 'alcohol_index' = (5 * 'Dalc' + 2 * 'Walc')/7\n",
    " - If 'alcohol_index' <= 2, then 'acl' is 'low'. Otherwise, 'acl' is 'high'\n",
    "2. Gender of the student (`gender`)\n",
    " - rename 'sex' as 'gender'"
   ]
  },
  {
   "cell_type": "code",
   "execution_count": 3,
   "metadata": {},
   "outputs": [
    {
     "data": {
      "text/html": [
       "<div>\n",
       "<style scoped>\n",
       "    .dataframe tbody tr th:only-of-type {\n",
       "        vertical-align: middle;\n",
       "    }\n",
       "\n",
       "    .dataframe tbody tr th {\n",
       "        vertical-align: top;\n",
       "    }\n",
       "\n",
       "    .dataframe thead th {\n",
       "        text-align: right;\n",
       "    }\n",
       "</style>\n",
       "<table border=\"1\" class=\"dataframe\">\n",
       "  <thead>\n",
       "    <tr style=\"text-align: right;\">\n",
       "      <th></th>\n",
       "      <th>school</th>\n",
       "      <th>gender</th>\n",
       "      <th>age</th>\n",
       "      <th>address</th>\n",
       "      <th>famsize</th>\n",
       "      <th>Pstatus</th>\n",
       "      <th>Medu</th>\n",
       "      <th>Fedu</th>\n",
       "      <th>Mjob</th>\n",
       "      <th>Fjob</th>\n",
       "      <th>...</th>\n",
       "      <th>goout</th>\n",
       "      <th>Dalc</th>\n",
       "      <th>Walc</th>\n",
       "      <th>health</th>\n",
       "      <th>absences</th>\n",
       "      <th>G1</th>\n",
       "      <th>G2</th>\n",
       "      <th>G3</th>\n",
       "      <th>alcohol_index</th>\n",
       "      <th>acl</th>\n",
       "    </tr>\n",
       "  </thead>\n",
       "  <tbody>\n",
       "    <tr>\n",
       "      <th>0</th>\n",
       "      <td>GP</td>\n",
       "      <td>F</td>\n",
       "      <td>18</td>\n",
       "      <td>U</td>\n",
       "      <td>GT3</td>\n",
       "      <td>A</td>\n",
       "      <td>4</td>\n",
       "      <td>4</td>\n",
       "      <td>at_home</td>\n",
       "      <td>teacher</td>\n",
       "      <td>...</td>\n",
       "      <td>4</td>\n",
       "      <td>1</td>\n",
       "      <td>1</td>\n",
       "      <td>3</td>\n",
       "      <td>4</td>\n",
       "      <td>0</td>\n",
       "      <td>11</td>\n",
       "      <td>11</td>\n",
       "      <td>1.000000</td>\n",
       "      <td>low</td>\n",
       "    </tr>\n",
       "    <tr>\n",
       "      <th>1</th>\n",
       "      <td>GP</td>\n",
       "      <td>F</td>\n",
       "      <td>17</td>\n",
       "      <td>U</td>\n",
       "      <td>GT3</td>\n",
       "      <td>T</td>\n",
       "      <td>1</td>\n",
       "      <td>1</td>\n",
       "      <td>at_home</td>\n",
       "      <td>other</td>\n",
       "      <td>...</td>\n",
       "      <td>3</td>\n",
       "      <td>1</td>\n",
       "      <td>1</td>\n",
       "      <td>3</td>\n",
       "      <td>2</td>\n",
       "      <td>9</td>\n",
       "      <td>11</td>\n",
       "      <td>11</td>\n",
       "      <td>1.000000</td>\n",
       "      <td>low</td>\n",
       "    </tr>\n",
       "    <tr>\n",
       "      <th>2</th>\n",
       "      <td>GP</td>\n",
       "      <td>F</td>\n",
       "      <td>15</td>\n",
       "      <td>U</td>\n",
       "      <td>LE3</td>\n",
       "      <td>T</td>\n",
       "      <td>1</td>\n",
       "      <td>1</td>\n",
       "      <td>at_home</td>\n",
       "      <td>other</td>\n",
       "      <td>...</td>\n",
       "      <td>2</td>\n",
       "      <td>2</td>\n",
       "      <td>3</td>\n",
       "      <td>3</td>\n",
       "      <td>6</td>\n",
       "      <td>12</td>\n",
       "      <td>13</td>\n",
       "      <td>12</td>\n",
       "      <td>2.285714</td>\n",
       "      <td>high</td>\n",
       "    </tr>\n",
       "    <tr>\n",
       "      <th>3</th>\n",
       "      <td>GP</td>\n",
       "      <td>F</td>\n",
       "      <td>15</td>\n",
       "      <td>U</td>\n",
       "      <td>GT3</td>\n",
       "      <td>T</td>\n",
       "      <td>4</td>\n",
       "      <td>2</td>\n",
       "      <td>health</td>\n",
       "      <td>services</td>\n",
       "      <td>...</td>\n",
       "      <td>2</td>\n",
       "      <td>1</td>\n",
       "      <td>1</td>\n",
       "      <td>5</td>\n",
       "      <td>0</td>\n",
       "      <td>14</td>\n",
       "      <td>14</td>\n",
       "      <td>14</td>\n",
       "      <td>1.000000</td>\n",
       "      <td>low</td>\n",
       "    </tr>\n",
       "    <tr>\n",
       "      <th>4</th>\n",
       "      <td>GP</td>\n",
       "      <td>F</td>\n",
       "      <td>16</td>\n",
       "      <td>U</td>\n",
       "      <td>GT3</td>\n",
       "      <td>T</td>\n",
       "      <td>3</td>\n",
       "      <td>3</td>\n",
       "      <td>other</td>\n",
       "      <td>other</td>\n",
       "      <td>...</td>\n",
       "      <td>2</td>\n",
       "      <td>1</td>\n",
       "      <td>2</td>\n",
       "      <td>5</td>\n",
       "      <td>0</td>\n",
       "      <td>11</td>\n",
       "      <td>13</td>\n",
       "      <td>13</td>\n",
       "      <td>1.285714</td>\n",
       "      <td>low</td>\n",
       "    </tr>\n",
       "    <tr>\n",
       "      <th>...</th>\n",
       "      <td>...</td>\n",
       "      <td>...</td>\n",
       "      <td>...</td>\n",
       "      <td>...</td>\n",
       "      <td>...</td>\n",
       "      <td>...</td>\n",
       "      <td>...</td>\n",
       "      <td>...</td>\n",
       "      <td>...</td>\n",
       "      <td>...</td>\n",
       "      <td>...</td>\n",
       "      <td>...</td>\n",
       "      <td>...</td>\n",
       "      <td>...</td>\n",
       "      <td>...</td>\n",
       "      <td>...</td>\n",
       "      <td>...</td>\n",
       "      <td>...</td>\n",
       "      <td>...</td>\n",
       "      <td>...</td>\n",
       "      <td>...</td>\n",
       "    </tr>\n",
       "    <tr>\n",
       "      <th>644</th>\n",
       "      <td>MS</td>\n",
       "      <td>F</td>\n",
       "      <td>19</td>\n",
       "      <td>R</td>\n",
       "      <td>GT3</td>\n",
       "      <td>T</td>\n",
       "      <td>2</td>\n",
       "      <td>3</td>\n",
       "      <td>services</td>\n",
       "      <td>other</td>\n",
       "      <td>...</td>\n",
       "      <td>2</td>\n",
       "      <td>1</td>\n",
       "      <td>2</td>\n",
       "      <td>5</td>\n",
       "      <td>4</td>\n",
       "      <td>10</td>\n",
       "      <td>11</td>\n",
       "      <td>10</td>\n",
       "      <td>1.285714</td>\n",
       "      <td>low</td>\n",
       "    </tr>\n",
       "    <tr>\n",
       "      <th>645</th>\n",
       "      <td>MS</td>\n",
       "      <td>F</td>\n",
       "      <td>18</td>\n",
       "      <td>U</td>\n",
       "      <td>LE3</td>\n",
       "      <td>T</td>\n",
       "      <td>3</td>\n",
       "      <td>1</td>\n",
       "      <td>teacher</td>\n",
       "      <td>services</td>\n",
       "      <td>...</td>\n",
       "      <td>4</td>\n",
       "      <td>1</td>\n",
       "      <td>1</td>\n",
       "      <td>1</td>\n",
       "      <td>4</td>\n",
       "      <td>15</td>\n",
       "      <td>15</td>\n",
       "      <td>16</td>\n",
       "      <td>1.000000</td>\n",
       "      <td>low</td>\n",
       "    </tr>\n",
       "    <tr>\n",
       "      <th>646</th>\n",
       "      <td>MS</td>\n",
       "      <td>F</td>\n",
       "      <td>18</td>\n",
       "      <td>U</td>\n",
       "      <td>GT3</td>\n",
       "      <td>T</td>\n",
       "      <td>1</td>\n",
       "      <td>1</td>\n",
       "      <td>other</td>\n",
       "      <td>other</td>\n",
       "      <td>...</td>\n",
       "      <td>1</td>\n",
       "      <td>1</td>\n",
       "      <td>1</td>\n",
       "      <td>5</td>\n",
       "      <td>6</td>\n",
       "      <td>11</td>\n",
       "      <td>12</td>\n",
       "      <td>9</td>\n",
       "      <td>1.000000</td>\n",
       "      <td>low</td>\n",
       "    </tr>\n",
       "    <tr>\n",
       "      <th>647</th>\n",
       "      <td>MS</td>\n",
       "      <td>M</td>\n",
       "      <td>17</td>\n",
       "      <td>U</td>\n",
       "      <td>LE3</td>\n",
       "      <td>T</td>\n",
       "      <td>3</td>\n",
       "      <td>1</td>\n",
       "      <td>services</td>\n",
       "      <td>services</td>\n",
       "      <td>...</td>\n",
       "      <td>5</td>\n",
       "      <td>3</td>\n",
       "      <td>4</td>\n",
       "      <td>2</td>\n",
       "      <td>6</td>\n",
       "      <td>10</td>\n",
       "      <td>10</td>\n",
       "      <td>10</td>\n",
       "      <td>3.285714</td>\n",
       "      <td>high</td>\n",
       "    </tr>\n",
       "    <tr>\n",
       "      <th>648</th>\n",
       "      <td>MS</td>\n",
       "      <td>M</td>\n",
       "      <td>18</td>\n",
       "      <td>R</td>\n",
       "      <td>LE3</td>\n",
       "      <td>T</td>\n",
       "      <td>3</td>\n",
       "      <td>2</td>\n",
       "      <td>services</td>\n",
       "      <td>other</td>\n",
       "      <td>...</td>\n",
       "      <td>1</td>\n",
       "      <td>3</td>\n",
       "      <td>4</td>\n",
       "      <td>5</td>\n",
       "      <td>4</td>\n",
       "      <td>10</td>\n",
       "      <td>11</td>\n",
       "      <td>11</td>\n",
       "      <td>3.285714</td>\n",
       "      <td>high</td>\n",
       "    </tr>\n",
       "  </tbody>\n",
       "</table>\n",
       "<p>649 rows × 35 columns</p>\n",
       "</div>"
      ],
      "text/plain": [
       "    school gender  age address famsize Pstatus  Medu  Fedu      Mjob  \\\n",
       "0       GP      F   18       U     GT3       A     4     4   at_home   \n",
       "1       GP      F   17       U     GT3       T     1     1   at_home   \n",
       "2       GP      F   15       U     LE3       T     1     1   at_home   \n",
       "3       GP      F   15       U     GT3       T     4     2    health   \n",
       "4       GP      F   16       U     GT3       T     3     3     other   \n",
       "..     ...    ...  ...     ...     ...     ...   ...   ...       ...   \n",
       "644     MS      F   19       R     GT3       T     2     3  services   \n",
       "645     MS      F   18       U     LE3       T     3     1   teacher   \n",
       "646     MS      F   18       U     GT3       T     1     1     other   \n",
       "647     MS      M   17       U     LE3       T     3     1  services   \n",
       "648     MS      M   18       R     LE3       T     3     2  services   \n",
       "\n",
       "         Fjob  ... goout Dalc  Walc  health  absences  G1  G2  G3  \\\n",
       "0     teacher  ...     4    1     1       3         4   0  11  11   \n",
       "1       other  ...     3    1     1       3         2   9  11  11   \n",
       "2       other  ...     2    2     3       3         6  12  13  12   \n",
       "3    services  ...     2    1     1       5         0  14  14  14   \n",
       "4       other  ...     2    1     2       5         0  11  13  13   \n",
       "..        ...  ...   ...  ...   ...     ...       ...  ..  ..  ..   \n",
       "644     other  ...     2    1     2       5         4  10  11  10   \n",
       "645  services  ...     4    1     1       1         4  15  15  16   \n",
       "646     other  ...     1    1     1       5         6  11  12   9   \n",
       "647  services  ...     5    3     4       2         6  10  10  10   \n",
       "648     other  ...     1    3     4       5         4  10  11  11   \n",
       "\n",
       "    alcohol_index   acl  \n",
       "0        1.000000   low  \n",
       "1        1.000000   low  \n",
       "2        2.285714  high  \n",
       "3        1.000000   low  \n",
       "4        1.285714   low  \n",
       "..            ...   ...  \n",
       "644      1.285714   low  \n",
       "645      1.000000   low  \n",
       "646      1.000000   low  \n",
       "647      3.285714  high  \n",
       "648      3.285714  high  \n",
       "\n",
       "[649 rows x 35 columns]"
      ]
     },
     "execution_count": 3,
     "metadata": {},
     "output_type": "execute_result"
    }
   ],
   "source": [
    "#정답\n",
    "student_data['alcohol_index'] = (5 * student_data['Dalc'] + 2 * student_data['Walc']) / 7\n",
    "student_data['acl'] = student_data['alcohol_index'].apply(lambda x: 'low' if x <= 2 else 'high')\n",
    "\n",
    "student_data.rename(columns={'sex': 'gender'}, inplace=True)\n",
    "student_data "
   ]
  },
  {
   "cell_type": "markdown",
   "metadata": {},
   "source": [
    "# Question 2 (1pt)"
   ]
  },
  {
   "cell_type": "markdown",
   "metadata": {},
   "source": [
    "**Please calculate confidence intervals for means of the final grade ('G3')**"
   ]
  },
  {
   "cell_type": "markdown",
   "metadata": {},
   "source": [
    "HINT) Because we have a sample size that is much greater than 30, we can use the Central Limit Theorem to calculate confidence intervals. According to this theorem we can calculate a confidence interval for the mean using the normal distribution."
   ]
  },
  {
   "cell_type": "code",
   "execution_count": 4,
   "metadata": {},
   "outputs": [
    {
     "name": "stdout",
     "output_type": "stream",
     "text": [
      "신뢰 구간: (11.65745768566587, 12.154560804318722)\n"
     ]
    }
   ],
   "source": [
    "#정답\n",
    "mean_g3 = student_data['G3'].mean()\n",
    "std_g3 = student_data['G3'].std()\n",
    "\n",
    "n = len(student_data['G3'])\n",
    "\n",
    "z_95 = stats.norm.ppf(0.975)  # Two-tailed test\n",
    "\n",
    "margin_of_error = z_95 * (std_g3 / (n ** 0.5))\n",
    "\n",
    "ci_lower = mean_g3 - margin_of_error\n",
    "ci_upper = mean_g3 + margin_of_error\n",
    "\n",
    "print(f\"신뢰 구간: ({ci_lower}, {ci_upper})\")"
   ]
  },
  {
   "cell_type": "markdown",
   "metadata": {},
   "source": [
    "## Question 3 (4pts)\n",
    "\n",
    "**Are the population variances equal in the two groups of students (Low vs. High alcohol consumption)?**"
   ]
  },
  {
   "cell_type": "markdown",
   "metadata": {},
   "source": [
    "You need to compare the variances of **the final grades** of the two groups!\n",
    "- Set the hypothesis (1pt)\n",
    "- Let's perform the levene's test whose Null Hypothesis is that the variances are equal. We will use a significance level of 0.05 (2pt)\n",
    "- Make conclusions (1pt)"
   ]
  },
  {
   "cell_type": "markdown",
   "metadata": {},
   "source": [
    "# 답\n",
    "\n",
    "### Null Hypothesis (H0): The variances of final grades in the two groups (Low and High alcohol consumption) are equal.\n",
    "### Alternative Hypothesis (H1): The variances of final grades in the two groups are not equal."
   ]
  },
  {
   "cell_type": "code",
   "execution_count": null,
   "metadata": {},
   "outputs": [
    {
     "name": "stdout",
     "output_type": "stream",
     "text": [
      "Levene의 검정 통계량: 0.6503514980403117\n",
      "P-value: 0.42028335860459587\n",
      "귀무 가설 기각 실패. 분산은 동일합니다.\n"
     ]
    }
   ],
   "source": [
    "grades_low_alcohol = student_data[student_data['acl'] == 'low']['G3']\n",
    "grades_high_alcohol = student_data[student_data['acl'] == 'high']['G3']\n",
    "\n",
    "levene_stat, p_value = levene(grades_low_alcohol, grades_high_alcohol)\n",
    "\n",
    "print(f\"Levene의 검정 통계량: {levene_stat}\")\n",
    "\n",
    "print(f\"P-value: {p_value}\")\n",
    "\n",
    "\n",
    "alpha = 0.05\n",
    "\n",
    "if p_value < alpha:\n",
    "\n",
    "   print(\"귀무 가설 기각. 분산은 유의하게 다릅니다.\")\n",
    "\n",
    "else:\n",
    "\n",
    "   print(\"귀무 가설 기각 실패. 분산은 동일합니다.\")\n"
   ]
  },
  {
   "cell_type": "markdown",
   "metadata": {},
   "source": [
    "## Question 4 (1pt)\n",
    "\n",
    "**Does alcohol consumption affect academic performance?**"
   ]
  },
  {
   "cell_type": "markdown",
   "metadata": {},
   "source": [
    "Compare the distribution of the final grades of the two groups (Low vs. High alcohol consumption).\n",
    "- You can use the boxplot"
   ]
  },
  {
   "cell_type": "code",
   "execution_count": null,
   "metadata": {},
   "outputs": [
    {
     "data": {
      "image/png": "[encoded data removed]",
      "text/plain": [
       "<Figure size 1200x600 with 2 Axes>"
      ]
     },
     "metadata": {},
     "output_type": "display_data"
    }
   ],
   "source": [
    "plt.figure(figsize=(12, 6))\n",
    "\n",
    "plt.subplot(1, 2, 1)\n",
    "sns.countplot(x='Dalc', data=student_data)\n",
    "plt.title('Distribution of Weekday Alcohol Consumption (Dalc)')\n",
    "\n",
    "plt.subplot(1, 2, 2)\n",
    "sns.countplot(x='Walc', data=student_data)\n",
    "plt.title('Distribution of Weekend Alcohol Consumption (Walc)')\n",
    "\n",
    "plt.tight_layout()\n",
    "plt.show()"
   ]
  },
  {
   "cell_type": "code",
   "execution_count": null,
   "metadata": {},
   "outputs": [
    {
     "data": {
      "image/png": "[encoded data removed]",
      "text/plain": [
       "<Figure size 800x600 with 1 Axes>"
      ]
     },
     "metadata": {},
     "output_type": "display_data"
    }
   ],
   "source": [
    "student_data['AlcoholConsumption'] = (student_data['Dalc'] > 2) | (student_data['Walc'] > 2)\n",
    "student_data['AlcoholConsumption'] = student_data['AlcoholConsumption'].map({True: 'High', False: 'Low'})\n",
    "\n",
    "plt.figure(figsize=(8, 6))\n",
    "sns.boxplot(x='AlcoholConsumption', y='G3', data=student_data)\n",
    "plt.title('Comparison of Final Grades by Alcohol Consumption Level')\n",
    "plt.xlabel('Alcohol Consumption Level')\n",
    "plt.ylabel('Final Grade (G3)')\n",
    "plt.show()\n"
   ]
  },
  {
   "cell_type": "markdown",
   "metadata": {},
   "source": [
    "## Question 5 (2pts)"
   ]
  },
  {
   "cell_type": "markdown",
   "metadata": {},
   "source": [
    "The visualizations sugest there is a difference between the means of the final grade of the two groups. Now we will perform a formal statistical test to confirm the hypothesis that students with High alcohol consumption level perform worse than the students with Low alcohol consumption level.\n",
    "\n",
    "> **Null Hypothesis: for both groups (High and Low ACL) the population means of the final grade are equal.**\n",
    "\n",
    ">  **Alternative Hypothesis: The population means of the final grades are different.**\n",
    "\n",
    "A common test to apply in for these cases is the two-sample t-test, which is used to determine if two population means are equal. "
   ]
  },
  {
   "cell_type": "markdown",
   "metadata": {},
   "source": [
    "**Performt the two sample t-test and make conclusions!**\n",
    "\n",
    "Note. Please consider whether the two samples have an equal variance."
   ]
  },
  {
   "cell_type": "code",
   "execution_count": null,
   "metadata": {},
   "outputs": [
    {
     "name": "stdout",
     "output_type": "stream",
     "text": [
      "Alpha level: 0.05\n",
      "Levene Statistic: 1.1158611977884751\n",
      "P-value (Levene's test): 0.2912056587793367\n",
      "t-Statistic: 4.254427972720502\n",
      "P-value (Two-sample t-test): 2.4055116157777566e-05\n",
      "귀무 가설 기각: 두 그룹의 최종 성적 평균이 다릅니다.\n"
     ]
    }
   ],
   "source": [
    "from scipy.stats import ttest_ind, f_oneway\n",
    "\n",
    "\n",
    "low_alcohol_group = student_data[student_data['Dalc'] <= 2] \n",
    "high_alcohol_group = student_data[student_data['Dalc'] > 2]   \n",
    "\n",
    "\n",
    "levene_statistic, levene_p_value = stats.levene(low_alcohol_group['G3'], high_alcohol_group['G3'])\n",
    "\n",
    "alpha = 0.05\n",
    "\n",
    "\n",
    "print(f'Alpha level: {alpha}')\n",
    "print(f'Levene Statistic: {levene_statistic}')\n",
    "print(f'P-value (Levene\\'s test): {levene_p_value}')\n",
    "\n",
    "\n",
    "if levene_p_value < alpha:\n",
    "    t_statistic, t_p_value = ttest_ind(low_alcohol_group['G3'], high_alcohol_group['G3'], equal_var=False)\n",
    "else:\n",
    "    t_statistic, t_p_value = ttest_ind(low_alcohol_group['G3'], high_alcohol_group['G3'])\n",
    "\n",
    "print(f't-Statistic: {t_statistic}')\n",
    "print(f'P-value (Two-sample t-test): {t_p_value}')\n",
    "\n",
    "if t_p_value < alpha:\n",
    "    print(\"귀무 가설 기각: 두 그룹의 최종 성적 평균이 다릅니다.\")\n",
    "else:\n",
    "    print(\"귀무 가설 기각 실패: 두 그룹의 최종 성적 평균이 같습니다.\")\n"
   ]
  },
  {
   "cell_type": "markdown",
   "metadata": {},
   "source": [
    "## Question 5 (3 pts)\n",
    "Do male teenagers drink more than female teenagers?\n",
    "- Please make a contingency table to see the relation between 'gender' and 'acl'(1pt)\n",
    "- Plot bar charts that compare the distribution of 'gender' given a value of 'acl' (2pts)"
   ]
  },
  {
   "cell_type": "code",
   "execution_count": null,
   "metadata": {},
   "outputs": [
    {
     "name": "stdout",
     "output_type": "stream",
     "text": [
      "acl     high  low\n",
      "gender           \n",
      "F         62  321\n",
      "M        104  162\n"
     ]
    }
   ],
   "source": [
    "contingency_table = pd.crosstab(student_data['gender'], student_data['acl'])\n",
    "print(contingency_table)\n"
   ]
  },
  {
   "cell_type": "code",
   "execution_count": null,
   "metadata": {},
   "outputs": [
    {
     "data": {
      "image/png": "[encoded data removed]",
      "text/plain": [
       "<Figure size 640x480 with 1 Axes>"
      ]
     },
     "metadata": {},
     "output_type": "display_data"
    }
   ],
   "source": [
    "# Plotting bar charts for the distribution of gender within each acl group\n",
    "contingency_table.plot(kind='bar', stacked=False)\n",
    "plt.title('Distribution of Gender by Alcohol Consumption Level')\n",
    "plt.xlabel('Gender')\n",
    "plt.ylabel('Count')\n",
    "plt.show()\n"
   ]
  },
  {
   "cell_type": "markdown",
   "metadata": {},
   "source": [
    "## Question 6 (2pts)\n",
    "\n",
    "Chi-square test of independence of the two variables (`acl` and `gender`) in the contingency table.\n",
    "\n",
    "**Set hypythesis**(1pt)\n",
    "\n",
    "**Perform the test and make conclusions**(1pt)"
   ]
  },
  {
   "cell_type": "markdown",
   "metadata": {},
   "source": [
    "## 답\n",
    "### Null Hypothesis (H0): There is no association between alcohol consumption level and gender. In other words, the two variables are independent.\n",
    "### Alternative Hypothesis (H1): There is an association between alcohol consumption level and gender. The two variables are not independent."
   ]
  },
  {
   "cell_type": "code",
   "execution_count": null,
   "metadata": {},
   "outputs": [
    {
     "name": "stdout",
     "output_type": "stream",
     "text": [
      "유의수준: 0.05\n",
      "카이제곱 통계량: 42.08718662606401\n",
      "P-값: 8.72933011769437e-11\n",
      "귀무 가설 기각: 'acl'과 'gender'는 서로 독립적이지 않습니다.\n"
     ]
    }
   ],
   "source": [
    "from scipy.stats import chi2_contingency\n",
    "\n",
    "# Perform the Chi-square test of independence\n",
    "chi2_stat, p_value, dof, expected = chi2_contingency(contingency_table)\n",
    "\n",
    "alpha = 0.05\n",
    "print(f'유의수준: {alpha}')\n",
    "print(f'카이제곱 통계량: {chi2_stat}')\n",
    "print(f'P-값: {p_value}')\n",
    "\n",
    "\n",
    "if p_value < alpha:\n",
    "    print(\"귀무 가설 기각: 'acl'과 'gender'는 서로 독립적이지 않습니다.\")\n",
    "else:\n",
    "    print(\"귀무 가설 기각 실패: 'acl'과 'gender'는 독립적입니다.\")\n"
   ]
  }
 ],
 "metadata": {
  "kernelspec": {
   "display_name": "Python 3 (ipykernel)",
   "language": "python",
   "name": "python3"
  },
  "language_info": {
   "codemirror_mode": {
    "name": "ipython",
    "version": 3
   },
   "file_extension": ".py",
   "mimetype": "text/x-python",
   "name": "python",
   "nbconvert_exporter": "python",
   "pygments_lexer": "ipython3",
   "version": "3.11.4"
  },
  "toc": {
   "colors": {
    "hover_highlight": "#DAA520",
    "running_highlight": "#FF0000",
    "selected_highlight": "#FFD700"
   },
   "moveMenuLeft": true,
   "nav_menu": {
    "height": "173px",
    "width": "252px"
   },
   "navigate_menu": true,
   "number_sections": true,
   "sideBar": true,
   "threshold": 4,
   "toc_cell": false,
   "toc_section_display": "block",
   "toc_window_display": false,
   "widenNotebook": false
  }
 },
 "nbformat": 4,
 "nbformat_minor": 2
}
